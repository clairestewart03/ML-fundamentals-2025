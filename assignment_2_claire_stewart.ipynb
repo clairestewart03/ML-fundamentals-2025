{
 "cells": [
  {
   "cell_type": "code",
   "execution_count": 9,
   "id": "223cc884-4561-4b30-9bf9-f7e9d77e36be",
   "metadata": {},
   "outputs": [],
   "source": [
    "# Importing libraries \n",
    "\n",
    "import pandas as pd\n",
    "import numpy as np\n",
    "\n",
    "\n"
   ]
  },
  {
   "cell_type": "code",
   "execution_count": null,
   "id": "aa8f58db-943b-48b9-ac49-86a9ac175b9d",
   "metadata": {},
   "outputs": [],
   "source": [
    "# Task 1: Data Loading and Initial Exploration\n",
    "\n",
    "df = pd.read_csv(\"/Users/clairestewart/ML-fundamentals-2025/bike+sharing+dataset/hour.csv\")\n",
    "\n"
   ]
  }
 ],
 "metadata": {
  "kernelspec": {
   "display_name": "Python [conda env:base] *",
   "language": "python",
   "name": "conda-base-py"
  },
  "language_info": {
   "codemirror_mode": {
    "name": "ipython",
    "version": 3
   },
   "file_extension": ".py",
   "mimetype": "text/x-python",
   "name": "python",
   "nbconvert_exporter": "python",
   "pygments_lexer": "ipython3",
   "version": "3.12.7"
  }
 },
 "nbformat": 4,
 "nbformat_minor": 5
}
