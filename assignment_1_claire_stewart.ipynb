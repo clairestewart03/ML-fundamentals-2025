{
 "cells": [
  {
   "cell_type": "code",
   "execution_count": 44,
   "id": "3345a74f-3ef8-49a2-acdb-8e8806ea162b",
   "metadata": {},
   "outputs": [
    {
     "name": "stdout",
     "output_type": "stream",
     "text": [
      "            pclass     survived          age        sibsp        parch  \\\n",
      "count  1309.000000  1309.000000  1046.000000  1309.000000  1309.000000   \n",
      "mean      2.294882     0.381971    29.881135     0.498854     0.385027   \n",
      "std       0.837836     0.486055    14.413500     1.041658     0.865560   \n",
      "min       1.000000     0.000000     0.166700     0.000000     0.000000   \n",
      "25%       2.000000     0.000000    21.000000     0.000000     0.000000   \n",
      "50%       3.000000     0.000000    28.000000     0.000000     0.000000   \n",
      "75%       3.000000     1.000000    39.000000     1.000000     0.000000   \n",
      "max       3.000000     1.000000    80.000000     8.000000     9.000000   \n",
      "\n",
      "              fare        body  \n",
      "count  1308.000000  121.000000  \n",
      "mean     33.295479  160.809917  \n",
      "std      51.758668   97.696922  \n",
      "min       0.000000    1.000000  \n",
      "25%       7.895800   72.000000  \n",
      "50%      14.454200  155.000000  \n",
      "75%      31.275000  256.000000  \n",
      "max     512.329200  328.000000  \n"
     ]
    }
   ],
   "source": [
    "# Task 1: Data Loading and Initial Exploration\n",
    "\n",
    "import pandas as pd\n",
    "\n",
    "titanic_data = pd.read_excel(\"/Users/clairestewart/ML-fundamentals-2025/titanic3.xls\")\n",
    "\n",
    "# Statistical description of the data to see trends in the dataset \n",
    "print(titanic_data.describe())\n",
    "\n",
    "# need to figure out ways to visualize data "
   ]
  },
  {
   "cell_type": "code",
   "execution_count": 105,
   "id": "0e5435b6-b720-4eb7-8c80-ba25884f88f0",
   "metadata": {},
   "outputs": [
    {
     "name": "stdout",
     "output_type": "stream",
     "text": [
      "pclass          0\n",
      "survived        0\n",
      "name            0\n",
      "sex             0\n",
      "age             0\n",
      "sibsp           0\n",
      "parch           0\n",
      "ticket          0\n",
      "fare            0\n",
      "cabin           0\n",
      "embarked        0\n",
      "boat            0\n",
      "body         1188\n",
      "home.dest       0\n",
      "dtype: int64\n"
     ]
    }
   ],
   "source": [
    "# Task 2: Managing Missing Values\n",
    "\n",
    "missing_values = titanic_data.isnull()\n",
    "print(missing_values.sum())\n",
    "\n",
    "# Before any data is changed the columns with missing data are: age, fare, cabin, embarked, boat, body, and home.dest \n",
    "\n",
    "# Age:\n",
    "# Filling in the missing values with the mean age. Median is similar to mean, so either would work. \n",
    "mean_age = titanic_data['age'].mean()\n",
    "titanic_data['age'] = titanic_data['age'].fillna(mean_age)\n",
    "\n",
    "# Fare\n",
    "# Filling in fares with the mode \n",
    "mean_fare =  titanic_data['fare'].mean()\n",
    "titanic_data['fare'] = titanic_data['fare'].fillna(mean_fare)\n",
    "\n",
    "# Cabin\n",
    "mode_cabin = titanic_data['cabin'].mode()\n",
    "titanic_data['cabin'] = titanic_data['cabin'].fillna(str(mode_cabin))\n",
    "\n",
    "# Home.Dest\n",
    "home_mode = titanic_data['home.dest'].mode()\n",
    "titanic_data['home.dest'] = titanic_data['home.dest'].fillna(str(home_mode))\n",
    "\n",
    "# Embarked\n",
    "embark_mode = titanic_data['embarked'].mode()\n",
    "titanic_data['embarked'] = titanic_data['embarked'].fillna(str(embark_mode))\n",
    "\n",
    "# Boat\n",
    "titanic_data['boat'] = titanic_data['boat'].fillna(-1)\n",
    "\n",
    "\n"
   ]
  },
  {
   "cell_type": "code",
   "execution_count": null,
   "id": "d2080aab-ed5f-4abe-a2fc-80d3d8d75ddd",
   "metadata": {},
   "outputs": [],
   "source": []
  },
  {
   "cell_type": "code",
   "execution_count": null,
   "id": "2bf052dd-06b3-46cd-a75a-6e17e0466fb3",
   "metadata": {},
   "outputs": [],
   "source": []
  },
  {
   "cell_type": "code",
   "execution_count": null,
   "id": "07359961-771d-4109-ae24-ef64e4d56af3",
   "metadata": {},
   "outputs": [],
   "source": []
  }
 ],
 "metadata": {
  "kernelspec": {
   "display_name": "Python [conda env:base] *",
   "language": "python",
   "name": "conda-base-py"
  },
  "language_info": {
   "codemirror_mode": {
    "name": "ipython",
    "version": 3
   },
   "file_extension": ".py",
   "mimetype": "text/x-python",
   "name": "python",
   "nbconvert_exporter": "python",
   "pygments_lexer": "ipython3",
   "version": "3.12.7"
  }
 },
 "nbformat": 4,
 "nbformat_minor": 5
}
