{
 "cells": [
  {
   "cell_type": "code",
   "execution_count": 38,
   "id": "3345a74f-3ef8-49a2-acdb-8e8806ea162b",
   "metadata": {},
   "outputs": [
    {
     "name": "stdout",
     "output_type": "stream",
     "text": [
      "            pclass     survived          age        sibsp        parch  \\\n",
      "count  1309.000000  1309.000000  1046.000000  1309.000000  1309.000000   \n",
      "mean      2.294882     0.381971    29.881135     0.498854     0.385027   \n",
      "std       0.837836     0.486055    14.413500     1.041658     0.865560   \n",
      "min       1.000000     0.000000     0.166700     0.000000     0.000000   \n",
      "25%       2.000000     0.000000    21.000000     0.000000     0.000000   \n",
      "50%       3.000000     0.000000    28.000000     0.000000     0.000000   \n",
      "75%       3.000000     1.000000    39.000000     1.000000     0.000000   \n",
      "max       3.000000     1.000000    80.000000     8.000000     9.000000   \n",
      "\n",
      "              fare        body  \n",
      "count  1308.000000  121.000000  \n",
      "mean     33.295479  160.809917  \n",
      "std      51.758668   97.696922  \n",
      "min       0.000000    1.000000  \n",
      "25%       7.895800   72.000000  \n",
      "50%      14.454200  155.000000  \n",
      "75%      31.275000  256.000000  \n",
      "max     512.329200  328.000000  \n"
     ]
    }
   ],
   "source": [
    "# Task 1: Data Loading and Initial Exploration\n",
    "\n",
    "import pandas as pd\n",
    "import matplotlib.pyplot as plt\n",
    "\n",
    "titanic_data = pd.read_excel(\"/Users/clairestewart/ML-fundamentals-2025/titanic3.xls\")\n",
    "\n",
    "# Statistical description of the data to see trends in the dataset \n",
    "print(titanic_data.describe())\n",
    "\n",
    "# need to figure out ways to visualize data "
   ]
  },
  {
   "cell_type": "code",
   "execution_count": 119,
   "id": "0e5435b6-b720-4eb7-8c80-ba25884f88f0",
   "metadata": {},
   "outputs": [
    {
     "name": "stdout",
     "output_type": "stream",
     "text": [
      "pclass          0\n",
      "survived        0\n",
      "name            0\n",
      "sex             0\n",
      "age          1309\n",
      "sibsp           0\n",
      "parch           0\n",
      "ticket          0\n",
      "fare            1\n",
      "cabin        1014\n",
      "embarked        2\n",
      "boat          823\n",
      "body         1188\n",
      "home.dest     564\n",
      "dtype: int64\n"
     ]
    },
    {
     "name": "stderr",
     "output_type": "stream",
     "text": [
      "/var/folders/0z/v55pd5lx53bf4cg9q09ppwy00000gn/T/ipykernel_13374/1952591486.py:12: FutureWarning: A value is trying to be set on a copy of a DataFrame or Series through chained assignment using an inplace method.\n",
      "The behavior will change in pandas 3.0. This inplace method will never work because the intermediate object on which we are setting values always behaves as a copy.\n",
      "\n",
      "For example, when doing 'df[col].method(value, inplace=True)', try using 'df.method({col: value}, inplace=True)' or df[col] = df[col].method(value) instead, to perform the operation inplace on the original object.\n",
      "\n",
      "\n",
      "  titanic_data['age'].fillna(mean_age, inplace=True)\n"
     ]
    }
   ],
   "source": [
    "# Task 2: Managing Missing Values\n",
    "\n",
    "missing_values = titanic_data.isnull()\n",
    "print(missing_values.sum())\n",
    "\n",
    "\n",
    "# Before any data is changed the columns with missing data are: age, fare, cabin, embarked, boat, body, and home.dest \n",
    "\n",
    "# Age:\n",
    "# Filling in the missing values with the mean age. Median is similar to mean, so either would work. \n",
    "mean_age = titanic_data['age'].mean()\n",
    "titanic_data['age'] = titanic_data['age'].fillna(mean_age, inplace=True)\n",
    "\n",
    "# Fare\n",
    "# Filling in fares with the mode \n",
    "mode_fare =  titanic_data['fare'].mode() \n",
    "#titanic_data['fare'].fillna(mode_fare, inplace=True)\n",
    "\n",
    "# Cabin\n",
    "mode_cabin = titanic_data['cabin'].mode()\n",
    "#titanic_data['cabin'].fillna(mode_cabin, inplace=True)\n",
    "\n",
    "# Home.Dest\n",
    "home = titanic_data['home.dest'].mode()\n",
    "titanic_data['home.dest'] = titanic_data['home.dest'].fillna(home)\n"
   ]
  },
  {
   "cell_type": "code",
   "execution_count": null,
   "id": "d2080aab-ed5f-4abe-a2fc-80d3d8d75ddd",
   "metadata": {},
   "outputs": [],
   "source": []
  },
  {
   "cell_type": "code",
   "execution_count": null,
   "id": "2bf052dd-06b3-46cd-a75a-6e17e0466fb3",
   "metadata": {},
   "outputs": [],
   "source": []
  }
 ],
 "metadata": {
  "kernelspec": {
   "display_name": "Python [conda env:base] *",
   "language": "python",
   "name": "conda-base-py"
  },
  "language_info": {
   "codemirror_mode": {
    "name": "ipython",
    "version": 3
   },
   "file_extension": ".py",
   "mimetype": "text/x-python",
   "name": "python",
   "nbconvert_exporter": "python",
   "pygments_lexer": "ipython3",
   "version": "3.12.7"
  }
 },
 "nbformat": 4,
 "nbformat_minor": 5
}
